{
 "cells": [
  {
   "cell_type": "markdown",
   "metadata": {},
   "source": [
    "## Basic ipynb to start"
   ]
  },
  {
   "cell_type": "code",
   "execution_count": null,
   "metadata": {},
   "outputs": [],
   "source": [
    "from datasets import load_dataset\n",
    "import pandas as pd"
   ]
  },
  {
   "cell_type": "code",
   "execution_count": null,
   "metadata": {},
   "outputs": [],
   "source": [
    "emotion_train = load_dataset('emotion',split='train')"
   ]
  },
  {
   "cell_type": "code",
   "execution_count": null,
   "metadata": {},
   "outputs": [],
   "source": [
    "print(emotion_train)"
   ]
  },
  {
   "cell_type": "code",
   "execution_count": null,
   "metadata": {},
   "outputs": [],
   "source": [
    "emotion_df = pd.DataFrame(emotion_train)\n",
    "emotion_df.head()"
   ]
  },
  {
   "cell_type": "code",
   "execution_count": null,
   "metadata": {},
   "outputs": [],
   "source": [
    "true_label = pd.DataFrame(emotion_df.label)\n",
    "emotion_text_df = pd.DataFrame(emotion_df.text)\n",
    "emotion_text_df.head()"
   ]
  },
  {
   "cell_type": "markdown",
   "metadata": {},
   "source": []
  },
  {
   "cell_type": "markdown",
   "metadata": {},
   "source": [
    "## Define our Labeling Functions"
   ]
  },
  {
   "cell_type": "code",
   "execution_count": null,
   "metadata": {},
   "outputs": [],
   "source": [
    "from snorkel.labeling import labeling_function,PandasLFApplier,LFAnalysis\n"
   ]
  },
  {
   "cell_type": "markdown",
   "metadata": {},
   "source": [
    "## Ways to create func\n",
    "- Keyword Lookup\n",
    "- Pattern Lookup/Regex\n",
    "- 3rd Party Library:spacy\n",
    "- Suggestions..."
   ]
  },
  {
   "cell_type": "code",
   "execution_count": null,
   "metadata": {},
   "outputs": [],
   "source": [
    "# Constants for our labels\n",
    "ABSTAIN = -1\n",
    "SADNESS = 0\n",
    "JOY = 1\n",
    "LOVE = 2\n",
    "ANGER = 3\n",
    "FEAR = 4\n",
    "SUPRISE = 5\n"
   ]
  },
  {
   "cell_type": "code",
   "execution_count": null,
   "metadata": {},
   "outputs": [],
   "source": [
    "## Keyword Lookup\n",
    "@labeling_function()\n",
    "def lf_sad_keyword_lookup(x):\n",
    "  keywords = [\"sad\",\"low\"]\n",
    "  return SADNESS if any(word in x.text.lower() for word in keywords) else ABSTAIN"
   ]
  },
  {
   "cell_type": "code",
   "execution_count": null,
   "metadata": {},
   "outputs": [],
   "source": [
    "## Pattern Lookup/Regex Fxn\n",
    "import re\n",
    "@labeling_function()\n",
    "def lf_regex_contains_sad(x):\n",
    "  return SADNESS if re.search(r\"sad*.*\",x.text.lower(),flags=re.I) else ABSTAIN"
   ]
  },
  {
   "cell_type": "code",
   "execution_count": null,
   "metadata": {},
   "outputs": [],
   "source": [
    "### Pattern Lookup/Regex Fxn\n",
    "@labeling_function()\n",
    "def lf_regex_contains_happy(x):\n",
    "  return JOY if re.search(r\"happ*.*\",x.text.lower(),flags=re.I) else ABSTAIN"
   ]
  },
  {
   "cell_type": "code",
   "execution_count": null,
   "metadata": {},
   "outputs": [],
   "source": [
    "### Apply Fxn\n",
    "lfs = [lf_sad_keyword_lookup,lf_regex_contains_sad,lf_regex_contains_happy]\n",
    "applier = PandasLFApplier(lfs=lfs)\n",
    "L_train = applier.apply(df=emotion_text_df)"
   ]
  },
  {
   "cell_type": "code",
   "execution_count": null,
   "metadata": {},
   "outputs": [],
   "source": [
    "L_train"
   ]
  },
  {
   "cell_type": "code",
   "execution_count": null,
   "metadata": {},
   "outputs": [],
   "source": [
    "### Evaluate the Performance\n",
    "LFAnalysis(L=L_train,lfs=lfs).lf_summary()"
   ]
  },
  {
   "cell_type": "markdown",
   "metadata": {},
   "source": [
    "#### We need to ensemble the votes and for this we can use MajorityLabel Voter by snorkel"
   ]
  },
  {
   "cell_type": "code",
   "execution_count": null,
   "metadata": {},
   "outputs": [],
   "source": [
    "# LabelModel\n",
    "#from snorkel.labeling.model import MajorityLabelVoter,LabelModel"
   ]
  },
  {
   "cell_type": "code",
   "execution_count": null,
   "metadata": {},
   "outputs": [],
   "source": []
  }
 ],
 "metadata": {
  "kernelspec": {
   "display_name": "Python 3 (ipykernel)",
   "language": "python",
   "name": "python3"
  },
  "language_info": {
   "codemirror_mode": {
    "name": "ipython",
    "version": 3
   },
   "file_extension": ".py",
   "mimetype": "text/x-python",
   "name": "python",
   "nbconvert_exporter": "python",
   "pygments_lexer": "ipython3",
   "version": "3.9.13"
  },
  "vscode": {
   "interpreter": {
    "hash": "3b4b10763ea6b4f3cde951b520a9266d8dc211acaf61567d23defacf09fd0f54"
   }
  }
 },
 "nbformat": 4,
 "nbformat_minor": 2
}
